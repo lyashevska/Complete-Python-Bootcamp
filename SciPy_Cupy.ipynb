{
  "nbformat": 4,
  "nbformat_minor": 0,
  "metadata": {
    "colab": {
      "name": "SciPy Cupy",
      "version": "0.3.2",
      "provenance": [],
      "include_colab_link": true
    },
    "kernelspec": {
      "name": "python3",
      "display_name": "Python 3"
    },
    "accelerator": "GPU"
  },
  "cells": [
    {
      "cell_type": "markdown",
      "metadata": {
        "id": "view-in-github",
        "colab_type": "text"
      },
      "source": [
        "[View in Colaboratory](https://colab.research.google.com/github/lyashevska/Complete-Python-Bootcamp/blob/master/SciPy_Cupy.ipynb)"
      ]
    },
    {
      "metadata": {
        "id": "fhVhdXha3-X_",
        "colab_type": "code",
        "colab": {
          "base_uri": "https://localhost:8080/",
          "height": 204
        },
        "outputId": "a39e86e3-4c1f-4058-b9d7-73104d9d8d65"
      },
      "cell_type": "code",
      "source": [
        "# Install CuPy and NumPy\n",
        "!apt -y install libcusparse8.0 libnvrtc8.0 libnvtoolsext1\n",
        "!ln -snf /usr/lib/x86_64-linux-gnu/libnvrtc-builtins.so.8.0 \\\n",
        "  /usr/lib/x86_64-linux-gnu/libnvrtc-builtins.so\n",
        "!pip install cupy-cuda80\n",
        "import numpy as np"
      ],
      "execution_count": 1,
      "outputs": [
        {
          "output_type": "stream",
          "text": [
            "Reading package lists... Done\n",
            "Building dependency tree       \n",
            "Reading state information... Done\n",
            "libcusparse8.0 is already the newest version (8.0.61-1).\n",
            "libnvrtc8.0 is already the newest version (8.0.61-1).\n",
            "libnvtoolsext1 is already the newest version (8.0.61-1).\n",
            "0 upgraded, 0 newly installed, 0 to remove and 0 not upgraded.\n",
            "Requirement already satisfied: cupy-cuda80 in /usr/local/lib/python3.6/dist-packages (4.4.0)\n",
            "Requirement already satisfied: six>=1.9.0 in /usr/local/lib/python3.6/dist-packages (from cupy-cuda80) (1.11.0)\n",
            "Requirement already satisfied: fastrlock>=0.3 in /usr/local/lib/python3.6/dist-packages (from cupy-cuda80) (0.4)\n",
            "Requirement already satisfied: numpy>=1.9.0 in /usr/local/lib/python3.6/dist-packages (from cupy-cuda80) (1.14.5)\n"
          ],
          "name": "stdout"
        }
      ]
    },
    {
      "metadata": {
        "id": "gPnr8SpS4uq3",
        "colab_type": "code",
        "colab": {}
      },
      "cell_type": "code",
      "source": [
        "import time, numpy, cupy"
      ],
      "execution_count": 0,
      "outputs": []
    },
    {
      "metadata": {
        "id": "YzQqYZ_v6UI_",
        "colab_type": "code",
        "colab": {}
      },
      "cell_type": "code",
      "source": [
        "def test(xp, size):\n",
        "  return [xp.arange(size).reshape(1000, -1).T * 2 for x in range(10)]"
      ],
      "execution_count": 0,
      "outputs": []
    },
    {
      "metadata": {
        "id": "0HvJHsTa6dfX",
        "colab_type": "code",
        "colab": {
          "base_uri": "https://localhost:8080/",
          "height": 187
        },
        "outputId": "5beb576e-c619-49d4-d42a-159a5926061e"
      },
      "cell_type": "code",
      "source": [
        "for i in range(4,9):\n",
        "  for xp in [numpy, cupy]:\n",
        "    test(xp, 10**i)   # Avoid first call overhead\n",
        "    # Synchronize CPU and GPU for benchmark\n",
        "    cupy.cuda.runtime.deviceSynchronize()\n",
        "    t1 = time.time()\n",
        "    test(xp, 10 ** i)\n",
        "    cupy.cuda.runtime.deviceSynchronize()\n",
        "    t2 = time.time()\n",
        "    print(xp.__name__, (t2 - t1) * 100)"
      ],
      "execution_count": 4,
      "outputs": [
        {
          "output_type": "stream",
          "text": [
            "numpy 0.09343624114990234\n",
            "cupy 0.18956661224365234\n",
            "numpy 0.4306316375732422\n",
            "cupy 0.22037029266357422\n",
            "numpy 5.22761344909668\n",
            "cupy 0.4457712173461914\n",
            "numpy 57.15289115905762\n",
            "cupy 4.214787483215332\n",
            "numpy 571.681547164917\n",
            "cupy 75.15921592712402\n"
          ],
          "name": "stdout"
        }
      ]
    },
    {
      "metadata": {
        "id": "ElZeODJt9sqN",
        "colab_type": "code",
        "colab": {
          "base_uri": "https://localhost:8080/",
          "height": 68
        },
        "outputId": "ba0a5d74-7974-44fe-d0bc-197684761929"
      },
      "cell_type": "code",
      "source": [
        "import contextlib\n",
        "import time\n",
        "\n",
        "import numpy as np\n",
        "from scipy.cluster.vq import kmeans\n",
        "import six\n",
        "\n",
        "import cupy\n",
        "\n",
        "# Args\n",
        "gpu_id = 0\n",
        "n_clusters = 2\n",
        "n_samples = 5000000\n",
        "n_iter = 10\n",
        "\n",
        "\n",
        "@contextlib.contextmanager\n",
        "def timer(message):\n",
        "    cupy.cuda.runtime.deviceSynchronize()\n",
        "    start = time.time()\n",
        "    yield\n",
        "    cupy.cuda.runtime.deviceSynchronize()\n",
        "    end = time.time()\n",
        "    print('%s:  %f sec' % (message, end - start))\n",
        "\n",
        "\n",
        "def fit(X, n_clusters, max_iter):\n",
        "    assert X.ndim == 2\n",
        "    xp = cupy.get_array_module(X)\n",
        "    pred = xp.zeros(len(X), dtype=np.int32)\n",
        "    initial_indexes = np.random.choice(len(X), n_clusters,\n",
        "                                       replace=False).astype(np.int32)\n",
        "    centers = X[initial_indexes]\n",
        "\n",
        "    for _ in six.moves.range(max_iter):\n",
        "        # calculate distances and label\n",
        "        distances = xp.linalg.norm(X[:, None, :] - centers[None, :, :],\n",
        "                                   axis=2)\n",
        "\n",
        "        new_pred = xp.argmin(distances, axis=1).astype(np.int32)\n",
        "        if xp.all(new_pred == pred):\n",
        "            break\n",
        "        pred = new_pred\n",
        "\n",
        "        # calculate centers\n",
        "        centers = xp.stack([X[pred == i].mean(axis=0)\n",
        "                            for i in six.moves.range(n_clusters)])\n",
        "    return centers, pred\n",
        "\n",
        "\n",
        "def run(gpuid, n_clusters, num, max_iter):\n",
        "    samples = np.random.randn(num, 2).astype(np.float32)\n",
        "    X_train = np.r_[samples + 1, samples - 1]\n",
        "    repeat = 1\n",
        "\n",
        "    with timer(' Numpy '):\n",
        "        for i in range(repeat):\n",
        "            centers, pred = fit(X_train, n_clusters, max_iter)\n",
        "\n",
        "    with timer(' SciPy '):\n",
        "        for i in range(repeat):\n",
        "            centers, pred = kmeans(X_train, n_clusters, n_iter)\n",
        "\n",
        "    with cupy.cuda.Device(gpuid):\n",
        "        X_train = cupy.asarray(X_train)\n",
        "        with timer(' CuPy '):\n",
        "            for i in range(repeat):\n",
        "                centers, pred = fit(X_train, n_clusters, max_iter)\n",
        "\n",
        "\n",
        "run(gpu_id, n_clusters, n_samples, n_iter)"
      ],
      "execution_count": 9,
      "outputs": [
        {
          "output_type": "stream",
          "text": [
            " Numpy :  12.553136 sec\n",
            " SciPy :  14.795404 sec\n",
            " CuPy :  1.217231 sec\n"
          ],
          "name": "stdout"
        }
      ]
    },
    {
      "metadata": {
        "id": "baXxJhTpHdaM",
        "colab_type": "code",
        "colab": {}
      },
      "cell_type": "code",
      "source": [
        ""
      ],
      "execution_count": 0,
      "outputs": []
    }
  ]
}